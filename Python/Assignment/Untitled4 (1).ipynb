{
  "cells": [
    {
      "cell_type": "markdown",
      "metadata": {
        "id": "O80vTLBNu9Tx"
      },
      "source": [
        "# **Python Assignment 1 - Variables, Operators and Type Casting**\n",
        "    \n",
        "##         Name - Namita Kumari  Date - 2024/08/31\n",
        "\n",
        "\n",
        "1.a. Variable in Python :  A Python variable is a reserved memory location to store values. In other words, a variable in a python program gives data to the computer for processing.\n",
        "\n",
        "Creating a variable that stores your name :  In Python, we can create a variable to store a string, such as a name, like this:\n"
      ]
    },
    {
      "cell_type": "code",
      "execution_count": 14,
      "metadata": {
        "id": "8qW77tHKwDkE"
      },
      "outputs": [],
      "source": [
        "name = \"John\"          #name is variable and John is string value assigned to it\n",
        "\n"
      ]
    },
    {
      "cell_type": "markdown",
      "metadata": {
        "id": "zpoJtRX-wtzJ"
      },
      "source": [
        "1.b. Difference between a variable and a constant :\n",
        "\n",
        "Variable\n",
        "\n",
        "Definition: A variable is a named location in memory that stores a value. The value stored in a variable can be changed during the execution of a program.\n",
        "\n",
        "Characteristics:\n",
        "\n",
        "Mutability: Variables can be modified after their initial assignment.\n",
        "\n",
        "Usage: Variables are used when you need to store data that might change or be updated throughout the program.\n",
        "\n",
        "Example\n"
      ]
    },
    {
      "cell_type": "code",
      "execution_count": null,
      "metadata": {
        "id": "BOgbrJ2xxCcB"
      },
      "outputs": [],
      "source": [
        "age = 25            # 'age' is a variable\n",
        "age = 26            # The value of 'age' is updated to 26\n",
        "\n",
        "\n"
      ]
    },
    {
      "cell_type": "markdown",
      "metadata": {
        "id": "bfJAGAY5xalp"
      },
      "source": [
        "Constant\n",
        "\n",
        "Definition:\n",
        " A constant is a value that, once assigned, cannot be changed throughout the execution of the program. Constants are often used to represent fixed values that should remain the same.\n",
        "\n",
        "Characteristics:\n",
        "\n",
        "Immutability: Constants are intended to be immutable, meaning their value should not be changed after initial assignment.\n",
        "\n",
        "Usage: Constants are used for values that should remain consistent, such as mathematical constants (e.g., π) or configuration settings.\n",
        "\n",
        "Convention: In many programming languages, constants are represented by names written in uppercase letters with underscores separating words, but the enforcement of immutability depends on the language.\n",
        "\n",
        "Example:\n"
      ]
    },
    {
      "cell_type": "code",
      "execution_count": null,
      "metadata": {
        "id": "QDhlL7-mxeSY"
      },
      "outputs": [],
      "source": [
        "PI = 3.14159     # 'PI' is a constant\n",
        "                 # Attempting to change PI later in the code would be against convention:\n",
        "                # PI = 3.14\n",
        "                 # This is generally discouraged but technically allowed in Python\n",
        "\n",
        "\n"
      ]
    },
    {
      "cell_type": "markdown",
      "metadata": {
        "id": "KsE6FzVmxz1A"
      },
      "source": [
        "Key Differences\n",
        "\n",
        "Mutability: Variables can change their value, while constants should not change once set.\n",
        "\n",
        "Purpose: Variables are used for data that will be updated, whereas constants are used for fixed values.\n",
        "\n",
        "Convention: In languages that support constant declarations explicitly (e.g., const in C++ or Java), constants are enforced by the language itself. In Python, the immutability of constants is a matter of convention rather than enforcement.\n",
        "\n",
        "In Python, while there is no built-in constant type, using all uppercase names for constants is a common convention to signal that these values should not be modified.\n"
      ]
    },
    {
      "cell_type": "markdown",
      "metadata": {
        "id": "4-tH4NKPqFbO"
      },
      "source": [
        "2. **Working with different Data Types**"
      ]
    },
    {
      "cell_type": "markdown",
      "metadata": {
        "id": "67s1uEA-qtUN"
      },
      "source": [
        "a. Integer"
      ]
    },
    {
      "cell_type": "markdown",
      "metadata": {
        "id": "RRsC5iXaqhkd"
      },
      "source": []
    },
    {
      "cell_type": "code",
      "execution_count": null,
      "metadata": {
        "id": "UMNqaxIHmEL-"
      },
      "outputs": [],
      "source": [
        "age = 10                #creating integer variable age and assigning value 10 to it"
      ]
    },
    {
      "cell_type": "code",
      "execution_count": null,
      "metadata": {
        "colab": {
          "base_uri": "https://localhost:8080/"
        },
        "id": "bV41AEXgmRem",
        "outputId": "99f47a75-a018-48b4-8d62-f8de339ffdc3"
      },
      "outputs": [
        {
          "name": "stdout",
          "output_type": "stream",
          "text": [
            "10\n"
          ]
        }
      ],
      "source": [
        "print(age)            #printing the value of age"
      ]
    },
    {
      "cell_type": "markdown",
      "metadata": {
        "id": "N5DhW4TVqzmD"
      },
      "source": [
        "b. Float"
      ]
    },
    {
      "cell_type": "code",
      "execution_count": null,
      "metadata": {
        "id": "ybo_KWmJn9wM"
      },
      "outputs": [],
      "source": [
        "weight = 50.5          #creating float variable weight and assigning value 50.5 to it"
      ]
    },
    {
      "cell_type": "code",
      "execution_count": null,
      "metadata": {
        "colab": {
          "base_uri": "https://localhost:8080/"
        },
        "id": "OXtbCX1KrFWc",
        "outputId": "da10f7b0-fb23-471a-bc03-faa45781a491"
      },
      "outputs": [
        {
          "name": "stdout",
          "output_type": "stream",
          "text": [
            "50.5\n"
          ]
        }
      ],
      "source": [
        "print (weight)         #printing the value of weight"
      ]
    },
    {
      "cell_type": "markdown",
      "metadata": {
        "id": "wxc71TE_rN12"
      },
      "source": [
        "c. String"
      ]
    },
    {
      "cell_type": "code",
      "execution_count": null,
      "metadata": {
        "id": "7rNBf-HyrSuX"
      },
      "outputs": [],
      "source": [
        "name = \"John\"          #creating string variable name and assigning value \"John\" to it"
      ]
    },
    {
      "cell_type": "code",
      "execution_count": null,
      "metadata": {
        "colab": {
          "base_uri": "https://localhost:8080/"
        },
        "id": "pj_Gqclhrh9Y",
        "outputId": "866d3435-0820-42c4-cd19-c8f02180fd29"
      },
      "outputs": [
        {
          "name": "stdout",
          "output_type": "stream",
          "text": [
            "John\n"
          ]
        }
      ],
      "source": [
        "print (name)            #printing the value of name"
      ]
    },
    {
      "cell_type": "markdown",
      "metadata": {
        "id": "niEl9UQRsQ60"
      },
      "source": [
        "d. Boolean"
      ]
    },
    {
      "cell_type": "code",
      "execution_count": null,
      "metadata": {
        "colab": {
          "base_uri": "https://localhost:8080/"
        },
        "id": "RQC7kipasjzL",
        "outputId": "b70fad3a-cfd1-45ed-db95-45c9326652f4"
      },
      "outputs": [
        {
          "name": "stdout",
          "output_type": "stream",
          "text": [
            "a is greater than b\n"
          ]
        }
      ],
      "source": [
        "a = 200                #creating integer variable a\n",
        "b = 100                #creating integer variable b\n",
        "if a > b:\n",
        "  print(\"a is greater than b\")         #printing if the condition is true\n",
        "else:\n",
        "  print(\"a is not greater than b\")          #printing if the condition is false"
      ]
    },
    {
      "cell_type": "markdown",
      "source": [
        "2.b. To display the type of each variable"
      ],
      "metadata": {
        "id": "qZRUrllOB8OG"
      }
    },
    {
      "cell_type": "code",
      "source": [
        "age = 10\n",
        "type (age)"
      ],
      "metadata": {
        "colab": {
          "base_uri": "https://localhost:8080/"
        },
        "id": "lbZY4xDLC8Ih",
        "outputId": "16a26a71-34ce-4437-9d55-766626053e49"
      },
      "execution_count": 3,
      "outputs": [
        {
          "output_type": "execute_result",
          "data": {
            "text/plain": [
              "int"
            ]
          },
          "metadata": {},
          "execution_count": 3
        }
      ]
    },
    {
      "cell_type": "code",
      "source": [
        "weight = 50.5\n",
        "type (weight)"
      ],
      "metadata": {
        "colab": {
          "base_uri": "https://localhost:8080/"
        },
        "id": "flqKb7xzDSEJ",
        "outputId": "bb262b3e-042c-411a-ccdf-f2e025259e12"
      },
      "execution_count": 4,
      "outputs": [
        {
          "output_type": "execute_result",
          "data": {
            "text/plain": [
              "float"
            ]
          },
          "metadata": {},
          "execution_count": 4
        }
      ]
    },
    {
      "cell_type": "code",
      "source": [
        "name = \"John\"\n",
        "type (name)"
      ],
      "metadata": {
        "colab": {
          "base_uri": "https://localhost:8080/"
        },
        "id": "dIRBXFRlDXwD",
        "outputId": "847d7bdb-f315-4a89-95a8-f2790b225260"
      },
      "execution_count": 5,
      "outputs": [
        {
          "output_type": "execute_result",
          "data": {
            "text/plain": [
              "str"
            ]
          },
          "metadata": {},
          "execution_count": 5
        }
      ]
    },
    {
      "cell_type": "markdown",
      "metadata": {
        "id": "VVlmmviZu0-T"
      },
      "source": [
        "## 3. Arithmetic Operators\n",
        "Arithmetic operators are used with numeric values to perform common mathematical operations:\n",
        "\n",
        "a. Addition(+) :\n",
        "In Python, + is the addition operator. It is used to add 2 values.\n",
        "\n",
        "\n",
        "\n"
      ]
    },
    {
      "cell_type": "code",
      "execution_count": null,
      "metadata": {
        "colab": {
          "base_uri": "https://localhost:8080/"
        },
        "id": "eeXZ-kGr0gzN",
        "outputId": "9e3fc6b3-13fc-4e59-990e-fcde5a31f493"
      },
      "outputs": [
        {
          "name": "stdout",
          "output_type": "stream",
          "text": [
            "5\n"
          ]
        }
      ],
      "source": [
        "value1 = 2\n",
        "value2 = 3\n",
        "\n",
        "# using the addition operator\n",
        "result = value1 + value2\n",
        "print(result)\n"
      ]
    },
    {
      "cell_type": "markdown",
      "metadata": {
        "id": "uFdrrf5vu5NY"
      },
      "source": [
        "b. Substraction(-) : In Python, – is the subtraction operator. It is used to subtract the second value from the first value."
      ]
    },
    {
      "cell_type": "code",
      "execution_count": null,
      "metadata": {
        "colab": {
          "base_uri": "https://localhost:8080/"
        },
        "id": "Ny2mqu7q1Bjl",
        "outputId": "1af86d3e-aea8-4045-c6b6-1878d3d518d9"
      },
      "outputs": [
        {
          "name": "stdout",
          "output_type": "stream",
          "text": [
            "-1\n"
          ]
        }
      ],
      "source": [
        "val1 = 2\n",
        "val2 = 3\n",
        "\n",
        "# using the subtraction operator\n",
        "res = val1 - val2\n",
        "print(res)\n"
      ]
    },
    {
      "cell_type": "markdown",
      "metadata": {
        "id": "pxzpmSyC1el0"
      },
      "source": [
        "c. Multiplication(*) : Python * operator is the multiplication operator. It is used to find the product of 2 values."
      ]
    },
    {
      "cell_type": "code",
      "execution_count": null,
      "metadata": {
        "colab": {
          "base_uri": "https://localhost:8080/"
        },
        "id": "SSvGYoVq1vP5",
        "outputId": "95bcb0a3-0abe-4952-d09d-2c53c3a25550"
      },
      "outputs": [
        {
          "name": "stdout",
          "output_type": "stream",
          "text": [
            "6\n"
          ]
        }
      ],
      "source": [
        "val1 = 2\n",
        "val2 = 3\n",
        "\n",
        "# using the multiplication operator\n",
        "res = val1 * val2\n",
        "print(res)\n"
      ]
    },
    {
      "cell_type": "markdown",
      "metadata": {
        "id": "uKF9swD111fI"
      },
      "source": [
        "d. Division(/) : Python / operator is the division operator. It is used to find the quotient when the first operand is divided by the second."
      ]
    },
    {
      "cell_type": "code",
      "execution_count": null,
      "metadata": {
        "colab": {
          "base_uri": "https://localhost:8080/"
        },
        "id": "CLY_DhKy2Lal",
        "outputId": "d4ad127c-7bf5-471b-dcb0-3ca38e194333"
      },
      "outputs": [
        {
          "name": "stdout",
          "output_type": "stream",
          "text": [
            "1.5\n"
          ]
        }
      ],
      "source": [
        "val1 = 3\n",
        "val2 = 2\n",
        "\n",
        "# using the division operator\n",
        "res = val1 / val2\n",
        "print(res)\n"
      ]
    },
    {
      "cell_type": "markdown",
      "metadata": {
        "id": "efZJoiWJ2UEh"
      },
      "source": [
        "e. Floor Division(//) : The // in Python is used to conduct the floor division. It is used to find the floor of the quotient when the first operand is divided by the second."
      ]
    },
    {
      "cell_type": "code",
      "execution_count": null,
      "metadata": {
        "colab": {
          "base_uri": "https://localhost:8080/"
        },
        "id": "WEyBFxqK2l3v",
        "outputId": "89d17b9a-1f9d-4af3-fabe-55153871102f"
      },
      "outputs": [
        {
          "name": "stdout",
          "output_type": "stream",
          "text": [
            "1\n"
          ]
        }
      ],
      "source": [
        "val1 = 3\n",
        "val2 = 2\n",
        "\n",
        "# using the floor division\n",
        "res = val1 // val2\n",
        "print(res)\n"
      ]
    },
    {
      "cell_type": "markdown",
      "metadata": {
        "id": "T8NI9XFG2sBS"
      },
      "source": [
        "f. Modulus(%) : The % in Python is the modulus operator. It is used to find the remainder when the first operand is divided by the second."
      ]
    },
    {
      "cell_type": "code",
      "execution_count": null,
      "metadata": {
        "colab": {
          "base_uri": "https://localhost:8080/"
        },
        "id": "vseuwqtS23a_",
        "outputId": "2bb21988-0d83-41ca-87fe-e922186212f7"
      },
      "outputs": [
        {
          "name": "stdout",
          "output_type": "stream",
          "text": [
            "1\n"
          ]
        }
      ],
      "source": [
        "val1 = 3\n",
        "val2 = 2\n",
        "\n",
        "# using the modulus operator\n",
        "res = val1 % val2\n",
        "print(res)\n"
      ]
    },
    {
      "cell_type": "markdown",
      "metadata": {
        "id": "mtSZhMR429BF"
      },
      "source": [
        "g. Exponentiation(**): In Python, ** is the exponentiation operator. It is used to raise the first operand to the power of the second."
      ]
    },
    {
      "cell_type": "code",
      "execution_count": null,
      "metadata": {
        "colab": {
          "base_uri": "https://localhost:8080/"
        },
        "id": "c3SBGswA3ZiK",
        "outputId": "8084441a-3b73-435e-d148-87be8cabffc5"
      },
      "outputs": [
        {
          "name": "stdout",
          "output_type": "stream",
          "text": [
            "8\n"
          ]
        }
      ],
      "source": [
        "val1 = 2\n",
        "val2 = 3\n",
        "\n",
        "# using the exponentiation operator\n",
        "res = val1 ** val2\n",
        "print(res)\n"
      ]
    },
    {
      "cell_type": "markdown",
      "metadata": {
        "id": "WmdYD92Z3pd0"
      },
      "source": [
        "3.b. Calculate the area of a rectangle using variables 'length' and 'width' with values 5 and 10, respectively by using the multiplication operator."
      ]
    },
    {
      "cell_type": "code",
      "execution_count": null,
      "metadata": {
        "colab": {
          "base_uri": "https://localhost:8080/"
        },
        "id": "sXgXG5p24qxt",
        "outputId": "19ace4c0-feaa-4e89-c476-295fa96f5c19"
      },
      "outputs": [
        {
          "name": "stdout",
          "output_type": "stream",
          "text": [
            "Area of Rectangle: 50\n"
          ]
        }
      ],
      "source": [
        "# Function to calculate the area using simple multiplication\n",
        "def area_simple_multiplication(length, width):\n",
        "\treturn length * width\n",
        "\n",
        "# Example usage:\n",
        "length = 5\n",
        "width = 10\n",
        "result = area_simple_multiplication(length, width)\n",
        "print(f\"Area of Rectangle: {result}\")\n"
      ]
    },
    {
      "cell_type": "markdown",
      "metadata": {
        "id": "1u5cL7ki5Eb6"
      },
      "source": [
        "# 4. Comparision and Logical Operators\n",
        " a. Comaprision operators with examples:\n",
        "   1. Equal to(==) :The Equal to Operator is also known as the Equality Operator in Python, as it is used to check for equality. It returns True if both the operands are equal i.e. if both the left and the right operands are equal to each other. Otherwise, it returns False."
      ]
    },
    {
      "cell_type": "code",
      "execution_count": null,
      "metadata": {
        "colab": {
          "base_uri": "https://localhost:8080/"
        },
        "id": "Afay7UKi6Ff0",
        "outputId": "d980cac0-1982-4f30-e35b-5cdd39ee04ce"
      },
      "outputs": [
        {
          "name": "stdout",
          "output_type": "stream",
          "text": [
            "False\n",
            "True\n"
          ]
        }
      ],
      "source": [
        "a = 9\n",
        "b = 5\n",
        "c = 9\n",
        "\n",
        "# Output\n",
        "print(a == b)\n",
        "print(a == c)\n"
      ]
    },
    {
      "cell_type": "markdown",
      "metadata": {
        "id": "XtzFb-2I6P2O"
      },
      "source": [
        "  2. Not Equal to(!=) :The Not Equal To Operator returns True if both the operands are not equal and returns False if both the operands are equal."
      ]
    },
    {
      "cell_type": "code",
      "execution_count": null,
      "metadata": {
        "colab": {
          "base_uri": "https://localhost:8080/"
        },
        "id": "BqdtB0rO6nrZ",
        "outputId": "a04a6d62-91b2-4019-e96e-9272ce2f5bf0"
      },
      "outputs": [
        {
          "name": "stdout",
          "output_type": "stream",
          "text": [
            "True\n",
            "False\n"
          ]
        }
      ],
      "source": [
        "a = 9\n",
        "b = 5\n",
        "c = 9\n",
        "\n",
        "# Output\n",
        "print(a != b)\n",
        "print(a != c)\n"
      ]
    },
    {
      "cell_type": "markdown",
      "metadata": {
        "id": "xOOZbWbz6vhT"
      },
      "source": [
        " 3. Greater than(>) : The Greater Than Operator returns True if the left operand is greater than the right operand otherwise returns False."
      ]
    },
    {
      "cell_type": "code",
      "execution_count": null,
      "metadata": {
        "colab": {
          "base_uri": "https://localhost:8080/"
        },
        "id": "LCAPcXCe68qQ",
        "outputId": "3b77e335-f76a-4315-ea22-d0a354d3d2ee"
      },
      "outputs": [
        {
          "name": "stdout",
          "output_type": "stream",
          "text": [
            "True\n",
            "False\n"
          ]
        }
      ],
      "source": [
        "a = 9\n",
        "b = 5\n",
        "\n",
        "# Output\n",
        "print(a > b)\n",
        "print(b > a)\n"
      ]
    },
    {
      "cell_type": "markdown",
      "metadata": {
        "id": "k18xxY_K7EGd"
      },
      "source": [
        "  4. Less than(<) : The Less Than Operator returns True if the left operand is less than the right operand otherwise it returns False."
      ]
    },
    {
      "cell_type": "code",
      "execution_count": null,
      "metadata": {
        "colab": {
          "base_uri": "https://localhost:8080/"
        },
        "id": "4UITv2KL7P9I",
        "outputId": "ac604057-c40c-4b93-97dc-40833994b07a"
      },
      "outputs": [
        {
          "name": "stdout",
          "output_type": "stream",
          "text": [
            "False\n",
            "True\n"
          ]
        }
      ],
      "source": [
        "a = 9\n",
        "b = 5\n",
        "\n",
        "# Output\n",
        "print(a < b)\n",
        "print(b < a)\n"
      ]
    },
    {
      "cell_type": "markdown",
      "metadata": {
        "id": "1KBSp1Jg7Ulb"
      },
      "source": [
        "  5. Grerater that or equal to(>=) : The Greater Than or Equal To Operator returns True if the left operand is greater than or equal to the right operand, else it will return False."
      ]
    },
    {
      "cell_type": "code",
      "execution_count": null,
      "metadata": {
        "colab": {
          "base_uri": "https://localhost:8080/"
        },
        "id": "_p8SsPqE7oZ1",
        "outputId": "5ac13f76-fb82-4e34-f17b-780357201cf2"
      },
      "outputs": [
        {
          "name": "stdout",
          "output_type": "stream",
          "text": [
            "True\n",
            "True\n",
            "False\n"
          ]
        }
      ],
      "source": [
        "a = 9\n",
        "b = 5\n",
        "c = 9\n",
        "\n",
        "# Output\n",
        "print(a >= b)\n",
        "print(a >= c)\n",
        "print(b >= a)\n"
      ]
    },
    {
      "cell_type": "markdown",
      "metadata": {
        "id": "xYFWDKfS7tgB"
      },
      "source": [
        "  6. Less than or equal to(<=) : The Less Than or Equal To Operator returns True if the left operand is less than or equal to the right operand."
      ]
    },
    {
      "cell_type": "code",
      "execution_count": null,
      "metadata": {
        "colab": {
          "base_uri": "https://localhost:8080/"
        },
        "id": "jYDpeoQQ77RF",
        "outputId": "5d7299cd-66a8-432f-a9dc-6df32e1df4ff"
      },
      "outputs": [
        {
          "name": "stdout",
          "output_type": "stream",
          "text": [
            "False\n",
            "True\n",
            "True\n"
          ]
        }
      ],
      "source": [
        "a = 9\n",
        "b = 5\n",
        "c = 9\n",
        "\n",
        "# Output\n",
        "print(a <= b)\n",
        "print(a <= c)\n",
        "print(b <= a)\n"
      ]
    },
    {
      "cell_type": "markdown",
      "metadata": {
        "id": "JJJ-Ck5a8AQW"
      },
      "source": [
        "4.b A Python script that checks if a number is positive or even using logical\n",
        "    operators ('and','or' and 'not')."
      ]
    },
    {
      "cell_type": "code",
      "execution_count": 11,
      "metadata": {
        "colab": {
          "base_uri": "https://localhost:8080/"
        },
        "id": "RiRU9hkjkOXz",
        "outputId": "2a4db714-77d1-48fe-c488-a31bc086f02b"
      },
      "outputs": [
        {
          "output_type": "stream",
          "name": "stdout",
          "text": [
            "The number is positive and even\n"
          ]
        }
      ],
      "source": [
        "a = 8\n",
        "if a > 0 and a%2 == 0:\n",
        "    print(\"The number is positive and even\")\n",
        "else:\n",
        "    pass\n",
        "    print(\"The number is not positive\")\n"
      ]
    },
    {
      "cell_type": "markdown",
      "metadata": {
        "id": "UZ0pTTX8ujoo"
      },
      "source": [
        "\n",
        "# Type Casting in Python\n",
        "\n",
        "  a. Type Casting : Type Casting is the method to convert the Python variable datatype into a certain data type in order to perform the required operation by users. In this article, we will see the various techniques for typecasting. There can be two types of Type Casting in Python:\n",
        "\n",
        "      Python Implicit Type Conversion\n",
        "      Python Explicit Type Conversion\n",
        "\n",
        "  *Implicit Type Conversion in Python:*\n",
        "  \n",
        "In this, method, Python converts the datatype into another datatype automatically. Users don’t have to involve in this process."
      ]
    },
    {
      "cell_type": "code",
      "execution_count": null,
      "metadata": {
        "colab": {
          "base_uri": "https://localhost:8080/"
        },
        "id": "Ld4WVVbEwJnX",
        "outputId": "a4bc111f-5dd2-48a5-c86a-2c413f50e06b"
      },
      "outputs": [
        {
          "name": "stdout",
          "output_type": "stream",
          "text": [
            "<class 'int'>\n",
            "<class 'float'>\n",
            "10.0\n",
            "<class 'float'>\n",
            "21.0\n",
            "<class 'float'>\n"
          ]
        }
      ],
      "source": [
        "# Python program to demonstrate\n",
        "# implicit type Casting\n",
        "\n",
        "# Python automatically converts\n",
        "# a to int\n",
        "a = 7\n",
        "print(type(a))\n",
        "\n",
        "# Python automatically converts\n",
        "# b to float\n",
        "b = 3.0\n",
        "print(type(b))\n",
        "\n",
        "# Python automatically converts\n",
        "# c to float as it is a float addition\n",
        "c = a + b\n",
        "print(c)\n",
        "print(type(c))\n",
        "\n",
        "# Python automatically converts\n",
        "# d to float as it is a float multiplication\n",
        "d = a * b\n",
        "print(d)\n",
        "print(type(d))\n"
      ]
    },
    {
      "cell_type": "markdown",
      "metadata": {
        "id": "a_j8wYAkwkRk"
      },
      "source": [
        "*Explicit Type Conversion in Python* :\n",
        "\n",
        "In this method, Python needs user involvement to convert the variable data type into the required data type.\n",
        "\n",
        "Examples of Type Casting in Python\n",
        "Mainly type casting can be done with these data type functions:\n",
        "\n",
        "Int(): Python Int() function take float or string as an argument and returns int type object.\n",
        "float(): Python float() function take int or string as an argument and return float type object.\n",
        "str(): Python str() function takes float or int as an argument and returns string type object.\n",
        "\n",
        "Python Convert Int to Float\n",
        "\n",
        "Here, we are Converting Int to Float in Python with the float() function."
      ]
    },
    {
      "cell_type": "code",
      "execution_count": null,
      "metadata": {
        "colab": {
          "base_uri": "https://localhost:8080/"
        },
        "id": "4hECSgE7xFoz",
        "outputId": "fa599bf5-3c30-4d25-c8e2-c345c50fbd0a"
      },
      "outputs": [
        {
          "name": "stdout",
          "output_type": "stream",
          "text": [
            "5.0\n",
            "<class 'float'>\n"
          ]
        }
      ],
      "source": [
        "# Python program to demonstrate\n",
        "# type Casting\n",
        "\n",
        "# int variable\n",
        "a = 5\n",
        "\n",
        "# typecast to float\n",
        "n = float(a)\n",
        "\n",
        "print(n)\n",
        "print(type(n))\n"
      ]
    },
    {
      "cell_type": "markdown",
      "metadata": {
        "id": "9SgQmmY9xqmU"
      },
      "source": []
    },
    {
      "cell_type": "markdown",
      "metadata": {
        "id": "sRHwmiLzxjSv"
      },
      "source": [
        "5.b Python script that converts a float to an integer"
      ]
    },
    {
      "cell_type": "code",
      "execution_count": null,
      "metadata": {
        "colab": {
          "base_uri": "https://localhost:8080/"
        },
        "id": "zrhdW82px3qd",
        "outputId": "e5eb7bd8-099f-4ce8-ed5d-ad390d5ff6fa"
      },
      "outputs": [
        {
          "name": "stdout",
          "output_type": "stream",
          "text": [
            "5\n",
            "<class 'int'>\n"
          ]
        }
      ],
      "source": [
        "# Python program to demonstrate\n",
        "# type Casting\n",
        "\n",
        "# int variable\n",
        "a = 5.9\n",
        "\n",
        "# typecast to int\n",
        "n = int(a)\n",
        "\n",
        "print(n)\n",
        "print(type(n))\n"
      ]
    },
    {
      "cell_type": "markdown",
      "metadata": {
        "id": "zPaIHBdoyAfg"
      },
      "source": [
        "Python script that converts an integer to string"
      ]
    },
    {
      "cell_type": "code",
      "execution_count": null,
      "metadata": {
        "colab": {
          "base_uri": "https://localhost:8080/"
        },
        "id": "kKydqzJnyLLz",
        "outputId": "a1d933a7-fff5-4327-b440-6c4790b61622"
      },
      "outputs": [
        {
          "name": "stdout",
          "output_type": "stream",
          "text": [
            "5\n",
            "<class 'str'>\n"
          ]
        }
      ],
      "source": [
        "# Python program to demonstrate\n",
        "# type Casting\n",
        "\n",
        "# int variable\n",
        "a = 5\n",
        "\n",
        "# typecast to str\n",
        "n = str(a)\n",
        "\n",
        "print(n)\n",
        "print(type(n))\n"
      ]
    },
    {
      "cell_type": "markdown",
      "metadata": {
        "id": "vySwr3KRySTG"
      },
      "source": [
        "Python script that converts a string to float"
      ]
    },
    {
      "cell_type": "code",
      "execution_count": null,
      "metadata": {
        "colab": {
          "base_uri": "https://localhost:8080/"
        },
        "id": "jem7lp5YybAY",
        "outputId": "513a5787-c17b-4fad-b847-59b7006f4d93"
      },
      "outputs": [
        {
          "name": "stdout",
          "output_type": "stream",
          "text": [
            "5.9\n",
            "<class 'float'>\n"
          ]
        }
      ],
      "source": [
        "# Python program to demonstrate\n",
        "# type Casting\n",
        "\n",
        "# string variable\n",
        "a = \"5.9\"\n",
        "\n",
        "# typecast to float\n",
        "n = float(a)\n",
        "\n",
        "print(n)\n",
        "print(type(n))\n"
      ]
    },
    {
      "cell_type": "markdown",
      "metadata": {
        "id": "goXVMWZfy-yz"
      },
      "source": [
        "# 6. Python script to create a mini calculator"
      ]
    },
    {
      "cell_type": "markdown",
      "source": [
        "If user is asked to input two numbers, the mini calculator performs tasks as such :\n",
        "\n",
        "a. Adds the two numbers and prints the result.\n",
        "\n",
        "b. Subtracts the second number from the first and prints the result.\n",
        "\n",
        "c. Multiplies the two numbers and prints the result.\n",
        "\n",
        "d. Divides the first number by the second and prints the result (handle division by zero).\n",
        "\n",
        "e. Converts the sum of the numbers to a string and prints the type of the result."
      ],
      "metadata": {
        "id": "Hi_0QaskSDGu"
      }
    },
    {
      "cell_type": "code",
      "source": [
        "n1 = int(input(\"Enter the first number: \"))\n",
        "n2 = int(input(\"Enter the second number: \"))\n",
        "sum_result = n1 + n2\n",
        "print(\"Addition of Two Numbers -->\",sum_result)\n",
        "\n",
        "print('--'*20)\n",
        "\n",
        "sub_result = n1 - n2\n",
        "print(\"Substraction Value -->\",sub_result)\n",
        "\n",
        "print('--'*20)\n",
        "\n",
        "multi_result = n1 * n2\n",
        "print(\"Result of Multiplication -->\",multi_result)\n",
        "\n",
        "print('--'*20)\n",
        "\n",
        "try:\n",
        "    div_result = n1 / n2\n",
        "except ZeroDivisionError:\n",
        "    print(\"ZeroDivisionError! Can't divide by Zero!\")\n",
        "else:\n",
        "    print(\"Division Value -->\",div_result)\n",
        "\n",
        "print('--'*20)\n",
        "\n",
        "print(\"Data Type -->\",type(str(sum_result)))"
      ],
      "metadata": {
        "colab": {
          "base_uri": "https://localhost:8080/"
        },
        "id": "X44vNu7tP-W-",
        "outputId": "bd341422-0a10-48ca-f670-0b8fbe6d78c1"
      },
      "execution_count": 13,
      "outputs": [
        {
          "output_type": "stream",
          "name": "stdout",
          "text": [
            "Enter the first number: 50\n",
            "Enter the second number: 70\n",
            "Addition of Two Numbers --> 120\n",
            "----------------------------------------\n",
            "Substraction Value --> -20\n",
            "----------------------------------------\n",
            "Result of Multiplication --> 3500\n",
            "----------------------------------------\n",
            "Division Value --> 0.7142857142857143\n",
            "----------------------------------------\n",
            "Data Type --> <class 'str'>\n"
          ]
        }
      ]
    }
  ],
  "metadata": {
    "colab": {
      "provenance": []
    },
    "kernelspec": {
      "display_name": "Python 3",
      "name": "python3"
    },
    "language_info": {
      "name": "python"
    }
  },
  "nbformat": 4,
  "nbformat_minor": 0
}